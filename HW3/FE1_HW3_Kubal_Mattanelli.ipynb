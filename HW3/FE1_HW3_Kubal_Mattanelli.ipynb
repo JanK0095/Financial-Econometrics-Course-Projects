{
 "cells": [
  {
   "cell_type": "markdown",
   "metadata": {},
   "source": [
    "# Financial Econometrics I: Homework 2\n",
    "Jan Kubal & Matyáš Mattanelli"
   ]
  },
  {
   "cell_type": "markdown",
   "metadata": {},
   "source": [
    "## Problem 1"
   ]
  },
  {
   "cell_type": "markdown",
   "metadata": {},
   "source": [
    "### 1. Loading data"
   ]
  },
  {
   "cell_type": "code",
   "execution_count": 1,
   "metadata": {
    "vscode": {
     "languageId": "r"
    }
   },
   "outputs": [
    {
     "name": "stderr",
     "output_type": "stream",
     "text": [
      "Warning message:\n",
      "\"package 'fst' was built under R version 4.1.3\"\n"
     ]
    }
   ],
   "source": [
    "#loading the fst package\n",
    "#install.packages(\"fst\")\n",
    "library(fst)"
   ]
  },
  {
   "cell_type": "code",
   "execution_count": 31,
   "metadata": {
    "vscode": {
     "languageId": "r"
    }
   },
   "outputs": [],
   "source": [
    "#reading data\n",
    "data_BAC_full <- read_fst(\"HW_3_data/HW_3_BAC_1min.fst\")\n",
    "data_MSFT_full <- read_fst(\"HW_3_data/HW_3_MSFT_1min.fst\")\n",
    "data_XOM_full <- read_fst(\"HW_3_data/HW_3_XOM_1min.fst\")"
   ]
  },
  {
   "cell_type": "code",
   "execution_count": 7,
   "metadata": {
    "vscode": {
     "languageId": "r"
    }
   },
   "outputs": [
    {
     "data": {
      "text/plain": [
       "     index                           V1        \n",
       " Min.   :2010-01-04 07:00:00   Min.   : 4.601  \n",
       " 1st Qu.:2011-11-30 15:15:15   1st Qu.:11.239  \n",
       " Median :2013-11-22 10:39:30   Median :14.030  \n",
       " Mean   :2013-12-13 06:31:08   Mean   :14.205  \n",
       " 3rd Qu.:2015-12-24 10:24:45   3rd Qu.:16.056  \n",
       " Max.   :2017-12-29 17:59:00   Max.   :29.796  "
      ]
     },
     "metadata": {},
     "output_type": "display_data"
    },
    {
     "data": {
      "text/plain": [
       "     index                           V1       \n",
       " Min.   :2010-01-04 07:44:00   Min.   :18.43  \n",
       " 1st Qu.:2011-12-08 08:45:00   1st Qu.:23.52  \n",
       " Median :2013-12-18 15:51:00   Median :32.80  \n",
       " Mean   :2013-12-27 07:27:58   Mean   :37.81  \n",
       " 3rd Qu.:2016-01-08 16:04:00   3rd Qu.:48.79  \n",
       " Max.   :2017-12-29 18:00:00   Max.   :86.52  "
      ]
     },
     "metadata": {},
     "output_type": "display_data"
    },
    {
     "data": {
      "text/plain": [
       "     index                           V1       \n",
       " Min.   :2010-01-04 07:01:00   Min.   :43.45  \n",
       " 1st Qu.:2011-11-28 14:52:30   1st Qu.:65.99  \n",
       " Median :2013-12-18 11:05:00   Median :74.10  \n",
       " Mean   :2013-12-18 02:42:53   Mean   :71.51  \n",
       " 3rd Qu.:2015-12-23 12:52:30   3rd Qu.:79.09  \n",
       " Max.   :2017-12-29 17:56:00   Max.   :90.13  "
      ]
     },
     "metadata": {},
     "output_type": "display_data"
    }
   ],
   "source": [
    "#basic data exploration, to be removed later\n",
    "summary(data_BAC)\n",
    "summary(data_MSFT)\n",
    "summary(data_XOM)"
   ]
  },
  {
   "cell_type": "code",
   "execution_count": 11,
   "metadata": {
    "vscode": {
     "languageId": "r"
    }
   },
   "outputs": [
    {
     "data": {
      "text/html": [
       "0"
      ],
      "text/latex": [
       "0"
      ],
      "text/markdown": [
       "0"
      ],
      "text/plain": [
       "[1] 0"
      ]
     },
     "metadata": {},
     "output_type": "display_data"
    },
    {
     "data": {
      "text/html": [
       "0"
      ],
      "text/latex": [
       "0"
      ],
      "text/markdown": [
       "0"
      ],
      "text/plain": [
       "[1] 0"
      ]
     },
     "metadata": {},
     "output_type": "display_data"
    },
    {
     "data": {
      "text/html": [
       "0"
      ],
      "text/latex": [
       "0"
      ],
      "text/markdown": [
       "0"
      ],
      "text/plain": [
       "[1] 0"
      ]
     },
     "metadata": {},
     "output_type": "display_data"
    }
   ],
   "source": [
    "sum(is.na(data_BAC$V1))\n",
    "sum(is.na(data_MSFT$V1))\n",
    "sum(is.na(data_XOM$V1))"
   ]
  },
  {
   "cell_type": "code",
   "execution_count": 29,
   "metadata": {
    "vscode": {
     "languageId": "r"
    }
   },
   "outputs": [
    {
     "data": {
      "image/png": "[encoded data removed]",
      "text/plain": [
       "plot without title"
      ]
     },
     "metadata": {
      "image/png": {
       "height": 420,
       "width": 420
      }
     },
     "output_type": "display_data"
    }
   ],
   "source": [
    "#plot(data_BAC) #<------takes 1 minute to plot\n",
    "plot(data_BAC[1:10000,])\n",
    "\n",
    "#as usual, we have data on workdays (because stock-exchanges serves need to rest for 2 days)"
   ]
  },
  {
   "cell_type": "code",
   "execution_count": 30,
   "metadata": {
    "vscode": {
     "languageId": "r"
    }
   },
   "outputs": [
    {
     "data": {
      "text/html": [
       "<table class=\"dataframe\">\n",
       "<caption>A data.frame: 100000 × 2</caption>\n",
       "<thead>\n",
       "\t<tr><th></th><th scope=col>index</th><th scope=col>V1</th></tr>\n",
       "\t<tr><th></th><th scope=col>&lt;dttm&gt;</th><th scope=col>&lt;dbl&gt;</th></tr>\n",
       "</thead>\n",
       "<tbody>\n",
       "\t<tr><th scope=row>1</th><td>2010-01-04 07:00:00</td><td>14.0864</td></tr>\n",
       "\t<tr><th scope=row>2</th><td>2010-01-04 07:04:00</td><td>14.0864</td></tr>\n",
       "\t<tr><th scope=row>3</th><td>2010-01-04 07:06:00</td><td>14.0679</td></tr>\n",
       "\t<tr><th scope=row>4</th><td>2010-01-04 07:08:00</td><td>14.0586</td></tr>\n",
       "\t<tr><th scope=row>5</th><td>2010-01-04 07:13:00</td><td>14.0772</td></tr>\n",
       "\t<tr><th scope=row>6</th><td>2010-01-04 07:21:00</td><td>14.1050</td></tr>\n",
       "\t<tr><th scope=row>7</th><td>2010-01-04 07:23:00</td><td>14.1236</td></tr>\n",
       "\t<tr><th scope=row>8</th><td>2010-01-04 07:25:00</td><td>14.1236</td></tr>\n",
       "\t<tr><th scope=row>9</th><td>2010-01-04 07:27:00</td><td>14.1236</td></tr>\n",
       "\t<tr><th scope=row>10</th><td>2010-01-04 07:28:00</td><td>14.1236</td></tr>\n",
       "\t<tr><th scope=row>11</th><td>2010-01-04 07:31:00</td><td>14.1236</td></tr>\n",
       "\t<tr><th scope=row>12</th><td>2010-01-04 07:32:00</td><td>14.1236</td></tr>\n",
       "\t<tr><th scope=row>13</th><td>2010-01-04 07:34:00</td><td>14.1514</td></tr>\n",
       "\t<tr><th scope=row>14</th><td>2010-01-04 07:35:00</td><td>14.1236</td></tr>\n",
       "\t<tr><th scope=row>15</th><td>2010-01-04 07:38:00</td><td>14.1236</td></tr>\n",
       "\t<tr><th scope=row>16</th><td>2010-01-04 07:42:00</td><td>14.1143</td></tr>\n",
       "\t<tr><th scope=row>17</th><td>2010-01-04 07:43:00</td><td>14.1236</td></tr>\n",
       "\t<tr><th scope=row>18</th><td>2010-01-04 07:44:00</td><td>14.1143</td></tr>\n",
       "\t<tr><th scope=row>19</th><td>2010-01-04 07:46:00</td><td>14.1143</td></tr>\n",
       "\t<tr><th scope=row>20</th><td>2010-01-04 07:47:00</td><td>14.1143</td></tr>\n",
       "\t<tr><th scope=row>21</th><td>2010-01-04 07:48:00</td><td>14.1143</td></tr>\n",
       "\t<tr><th scope=row>22</th><td>2010-01-04 07:49:00</td><td>14.1143</td></tr>\n",
       "\t<tr><th scope=row>23</th><td>2010-01-04 07:54:00</td><td>14.0957</td></tr>\n",
       "\t<tr><th scope=row>24</th><td>2010-01-04 07:55:00</td><td>14.1143</td></tr>\n",
       "\t<tr><th scope=row>25</th><td>2010-01-04 07:56:00</td><td>14.1143</td></tr>\n",
       "\t<tr><th scope=row>26</th><td>2010-01-04 07:58:00</td><td>14.1143</td></tr>\n",
       "\t<tr><th scope=row>27</th><td>2010-01-04 07:59:00</td><td>14.1143</td></tr>\n",
       "\t<tr><th scope=row>28</th><td>2010-01-04 08:00:00</td><td>14.1050</td></tr>\n",
       "\t<tr><th scope=row>29</th><td>2010-01-04 08:01:00</td><td>14.1050</td></tr>\n",
       "\t<tr><th scope=row>30</th><td>2010-01-04 08:02:00</td><td>14.1050</td></tr>\n",
       "\t<tr><th scope=row>...</th><td>...</td><td>...</td></tr>\n",
       "\t<tr><th scope=row>99971</th><td>2010-09-07 13:11:00</td><td>12.3394</td></tr>\n",
       "\t<tr><th scope=row>99972</th><td>2010-09-07 13:12:00</td><td>12.3301</td></tr>\n",
       "\t<tr><th scope=row>99973</th><td>2010-09-07 13:13:00</td><td>12.3487</td></tr>\n",
       "\t<tr><th scope=row>99974</th><td>2010-09-07 13:14:00</td><td>12.3487</td></tr>\n",
       "\t<tr><th scope=row>99975</th><td>2010-09-07 13:15:00</td><td>12.3487</td></tr>\n",
       "\t<tr><th scope=row>99976</th><td>2010-09-07 13:16:00</td><td>12.3580</td></tr>\n",
       "\t<tr><th scope=row>99977</th><td>2010-09-07 13:17:00</td><td>12.3394</td></tr>\n",
       "\t<tr><th scope=row>99978</th><td>2010-09-07 13:18:00</td><td>12.3394</td></tr>\n",
       "\t<tr><th scope=row>99979</th><td>2010-09-07 13:19:00</td><td>12.3394</td></tr>\n",
       "\t<tr><th scope=row>99980</th><td>2010-09-07 13:20:00</td><td>12.3301</td></tr>\n",
       "\t<tr><th scope=row>99981</th><td>2010-09-07 13:21:00</td><td>12.3301</td></tr>\n",
       "\t<tr><th scope=row>99982</th><td>2010-09-07 13:22:00</td><td>12.3394</td></tr>\n",
       "\t<tr><th scope=row>99983</th><td>2010-09-07 13:23:00</td><td>12.3487</td></tr>\n",
       "\t<tr><th scope=row>99984</th><td>2010-09-07 13:24:00</td><td>12.3394</td></tr>\n",
       "\t<tr><th scope=row>99985</th><td>2010-09-07 13:25:00</td><td>12.3301</td></tr>\n",
       "\t<tr><th scope=row>99986</th><td>2010-09-07 13:26:00</td><td>12.3301</td></tr>\n",
       "\t<tr><th scope=row>99987</th><td>2010-09-07 13:27:00</td><td>12.3208</td></tr>\n",
       "\t<tr><th scope=row>99988</th><td>2010-09-07 13:28:00</td><td>12.3394</td></tr>\n",
       "\t<tr><th scope=row>99989</th><td>2010-09-07 13:29:00</td><td>12.3301</td></tr>\n",
       "\t<tr><th scope=row>99990</th><td>2010-09-07 13:30:00</td><td>12.3487</td></tr>\n",
       "\t<tr><th scope=row>99991</th><td>2010-09-07 13:31:00</td><td>12.3580</td></tr>\n",
       "\t<tr><th scope=row>99992</th><td>2010-09-07 13:32:00</td><td>12.3673</td></tr>\n",
       "\t<tr><th scope=row>99993</th><td>2010-09-07 13:33:00</td><td>12.3580</td></tr>\n",
       "\t<tr><th scope=row>99994</th><td>2010-09-07 13:34:00</td><td>12.3673</td></tr>\n",
       "\t<tr><th scope=row>99995</th><td>2010-09-07 13:35:00</td><td>12.3673</td></tr>\n",
       "\t<tr><th scope=row>99996</th><td>2010-09-07 13:36:00</td><td>12.3580</td></tr>\n",
       "\t<tr><th scope=row>99997</th><td>2010-09-07 13:37:00</td><td>12.3487</td></tr>\n",
       "\t<tr><th scope=row>99998</th><td>2010-09-07 13:38:00</td><td>12.3580</td></tr>\n",
       "\t<tr><th scope=row>99999</th><td>2010-09-07 13:39:00</td><td>12.3580</td></tr>\n",
       "\t<tr><th scope=row>100000</th><td>2010-09-07 13:40:00</td><td>12.3580</td></tr>\n",
       "</tbody>\n",
       "</table>\n"
      ],
      "text/latex": [
       "A data.frame: 100000 × 2\n",
       "\\begin{tabular}{r|ll}\n",
       "  & index & V1\\\\\n",
       "  & <dttm> & <dbl>\\\\\n",
       "\\hline\n",
       "\t1 & 2010-01-04 07:00:00 & 14.0864\\\\\n",
       "\t2 & 2010-01-04 07:04:00 & 14.0864\\\\\n",
       "\t3 & 2010-01-04 07:06:00 & 14.0679\\\\\n",
       "\t4 & 2010-01-04 07:08:00 & 14.0586\\\\\n",
       "\t5 & 2010-01-04 07:13:00 & 14.0772\\\\\n",
       "\t6 & 2010-01-04 07:21:00 & 14.1050\\\\\n",
       "\t7 & 2010-01-04 07:23:00 & 14.1236\\\\\n",
       "\t8 & 2010-01-04 07:25:00 & 14.1236\\\\\n",
       "\t9 & 2010-01-04 07:27:00 & 14.1236\\\\\n",
       "\t10 & 2010-01-04 07:28:00 & 14.1236\\\\\n",
       "\t11 & 2010-01-04 07:31:00 & 14.1236\\\\\n",
       "\t12 & 2010-01-04 07:32:00 & 14.1236\\\\\n",
       "\t13 & 2010-01-04 07:34:00 & 14.1514\\\\\n",
       "\t14 & 2010-01-04 07:35:00 & 14.1236\\\\\n",
       "\t15 & 2010-01-04 07:38:00 & 14.1236\\\\\n",
       "\t16 & 2010-01-04 07:42:00 & 14.1143\\\\\n",
       "\t17 & 2010-01-04 07:43:00 & 14.1236\\\\\n",
       "\t18 & 2010-01-04 07:44:00 & 14.1143\\\\\n",
       "\t19 & 2010-01-04 07:46:00 & 14.1143\\\\\n",
       "\t20 & 2010-01-04 07:47:00 & 14.1143\\\\\n",
       "\t21 & 2010-01-04 07:48:00 & 14.1143\\\\\n",
       "\t22 & 2010-01-04 07:49:00 & 14.1143\\\\\n",
       "\t23 & 2010-01-04 07:54:00 & 14.0957\\\\\n",
       "\t24 & 2010-01-04 07:55:00 & 14.1143\\\\\n",
       "\t25 & 2010-01-04 07:56:00 & 14.1143\\\\\n",
       "\t26 & 2010-01-04 07:58:00 & 14.1143\\\\\n",
       "\t27 & 2010-01-04 07:59:00 & 14.1143\\\\\n",
       "\t28 & 2010-01-04 08:00:00 & 14.1050\\\\\n",
       "\t29 & 2010-01-04 08:01:00 & 14.1050\\\\\n",
       "\t30 & 2010-01-04 08:02:00 & 14.1050\\\\\n",
       "\t... & ... & ...\\\\\n",
       "\t99971 & 2010-09-07 13:11:00 & 12.3394\\\\\n",
       "\t99972 & 2010-09-07 13:12:00 & 12.3301\\\\\n",
       "\t99973 & 2010-09-07 13:13:00 & 12.3487\\\\\n",
       "\t99974 & 2010-09-07 13:14:00 & 12.3487\\\\\n",
       "\t99975 & 2010-09-07 13:15:00 & 12.3487\\\\\n",
       "\t99976 & 2010-09-07 13:16:00 & 12.3580\\\\\n",
       "\t99977 & 2010-09-07 13:17:00 & 12.3394\\\\\n",
       "\t99978 & 2010-09-07 13:18:00 & 12.3394\\\\\n",
       "\t99979 & 2010-09-07 13:19:00 & 12.3394\\\\\n",
       "\t99980 & 2010-09-07 13:20:00 & 12.3301\\\\\n",
       "\t99981 & 2010-09-07 13:21:00 & 12.3301\\\\\n",
       "\t99982 & 2010-09-07 13:22:00 & 12.3394\\\\\n",
       "\t99983 & 2010-09-07 13:23:00 & 12.3487\\\\\n",
       "\t99984 & 2010-09-07 13:24:00 & 12.3394\\\\\n",
       "\t99985 & 2010-09-07 13:25:00 & 12.3301\\\\\n",
       "\t99986 & 2010-09-07 13:26:00 & 12.3301\\\\\n",
       "\t99987 & 2010-09-07 13:27:00 & 12.3208\\\\\n",
       "\t99988 & 2010-09-07 13:28:00 & 12.3394\\\\\n",
       "\t99989 & 2010-09-07 13:29:00 & 12.3301\\\\\n",
       "\t99990 & 2010-09-07 13:30:00 & 12.3487\\\\\n",
       "\t99991 & 2010-09-07 13:31:00 & 12.3580\\\\\n",
       "\t99992 & 2010-09-07 13:32:00 & 12.3673\\\\\n",
       "\t99993 & 2010-09-07 13:33:00 & 12.3580\\\\\n",
       "\t99994 & 2010-09-07 13:34:00 & 12.3673\\\\\n",
       "\t99995 & 2010-09-07 13:35:00 & 12.3673\\\\\n",
       "\t99996 & 2010-09-07 13:36:00 & 12.3580\\\\\n",
       "\t99997 & 2010-09-07 13:37:00 & 12.3487\\\\\n",
       "\t99998 & 2010-09-07 13:38:00 & 12.3580\\\\\n",
       "\t99999 & 2010-09-07 13:39:00 & 12.3580\\\\\n",
       "\t100000 & 2010-09-07 13:40:00 & 12.3580\\\\\n",
       "\\end{tabular}\n"
      ],
      "text/markdown": [
       "\n",
       "A data.frame: 100000 × 2\n",
       "\n",
       "| <!--/--> | index &lt;dttm&gt; | V1 &lt;dbl&gt; |\n",
       "|---|---|---|\n",
       "| 1 | 2010-01-04 07:00:00 | 14.0864 |\n",
       "| 2 | 2010-01-04 07:04:00 | 14.0864 |\n",
       "| 3 | 2010-01-04 07:06:00 | 14.0679 |\n",
       "| 4 | 2010-01-04 07:08:00 | 14.0586 |\n",
       "| 5 | 2010-01-04 07:13:00 | 14.0772 |\n",
       "| 6 | 2010-01-04 07:21:00 | 14.1050 |\n",
       "| 7 | 2010-01-04 07:23:00 | 14.1236 |\n",
       "| 8 | 2010-01-04 07:25:00 | 14.1236 |\n",
       "| 9 | 2010-01-04 07:27:00 | 14.1236 |\n",
       "| 10 | 2010-01-04 07:28:00 | 14.1236 |\n",
       "| 11 | 2010-01-04 07:31:00 | 14.1236 |\n",
       "| 12 | 2010-01-04 07:32:00 | 14.1236 |\n",
       "| 13 | 2010-01-04 07:34:00 | 14.1514 |\n",
       "| 14 | 2010-01-04 07:35:00 | 14.1236 |\n",
       "| 15 | 2010-01-04 07:38:00 | 14.1236 |\n",
       "| 16 | 2010-01-04 07:42:00 | 14.1143 |\n",
       "| 17 | 2010-01-04 07:43:00 | 14.1236 |\n",
       "| 18 | 2010-01-04 07:44:00 | 14.1143 |\n",
       "| 19 | 2010-01-04 07:46:00 | 14.1143 |\n",
       "| 20 | 2010-01-04 07:47:00 | 14.1143 |\n",
       "| 21 | 2010-01-04 07:48:00 | 14.1143 |\n",
       "| 22 | 2010-01-04 07:49:00 | 14.1143 |\n",
       "| 23 | 2010-01-04 07:54:00 | 14.0957 |\n",
       "| 24 | 2010-01-04 07:55:00 | 14.1143 |\n",
       "| 25 | 2010-01-04 07:56:00 | 14.1143 |\n",
       "| 26 | 2010-01-04 07:58:00 | 14.1143 |\n",
       "| 27 | 2010-01-04 07:59:00 | 14.1143 |\n",
       "| 28 | 2010-01-04 08:00:00 | 14.1050 |\n",
       "| 29 | 2010-01-04 08:01:00 | 14.1050 |\n",
       "| 30 | 2010-01-04 08:02:00 | 14.1050 |\n",
       "| ... | ... | ... |\n",
       "| 99971 | 2010-09-07 13:11:00 | 12.3394 |\n",
       "| 99972 | 2010-09-07 13:12:00 | 12.3301 |\n",
       "| 99973 | 2010-09-07 13:13:00 | 12.3487 |\n",
       "| 99974 | 2010-09-07 13:14:00 | 12.3487 |\n",
       "| 99975 | 2010-09-07 13:15:00 | 12.3487 |\n",
       "| 99976 | 2010-09-07 13:16:00 | 12.3580 |\n",
       "| 99977 | 2010-09-07 13:17:00 | 12.3394 |\n",
       "| 99978 | 2010-09-07 13:18:00 | 12.3394 |\n",
       "| 99979 | 2010-09-07 13:19:00 | 12.3394 |\n",
       "| 99980 | 2010-09-07 13:20:00 | 12.3301 |\n",
       "| 99981 | 2010-09-07 13:21:00 | 12.3301 |\n",
       "| 99982 | 2010-09-07 13:22:00 | 12.3394 |\n",
       "| 99983 | 2010-09-07 13:23:00 | 12.3487 |\n",
       "| 99984 | 2010-09-07 13:24:00 | 12.3394 |\n",
       "| 99985 | 2010-09-07 13:25:00 | 12.3301 |\n",
       "| 99986 | 2010-09-07 13:26:00 | 12.3301 |\n",
       "| 99987 | 2010-09-07 13:27:00 | 12.3208 |\n",
       "| 99988 | 2010-09-07 13:28:00 | 12.3394 |\n",
       "| 99989 | 2010-09-07 13:29:00 | 12.3301 |\n",
       "| 99990 | 2010-09-07 13:30:00 | 12.3487 |\n",
       "| 99991 | 2010-09-07 13:31:00 | 12.3580 |\n",
       "| 99992 | 2010-09-07 13:32:00 | 12.3673 |\n",
       "| 99993 | 2010-09-07 13:33:00 | 12.3580 |\n",
       "| 99994 | 2010-09-07 13:34:00 | 12.3673 |\n",
       "| 99995 | 2010-09-07 13:35:00 | 12.3673 |\n",
       "| 99996 | 2010-09-07 13:36:00 | 12.3580 |\n",
       "| 99997 | 2010-09-07 13:37:00 | 12.3487 |\n",
       "| 99998 | 2010-09-07 13:38:00 | 12.3580 |\n",
       "| 99999 | 2010-09-07 13:39:00 | 12.3580 |\n",
       "| 100000 | 2010-09-07 13:40:00 | 12.3580 |\n",
       "\n"
      ],
      "text/plain": [
       "       index               V1     \n",
       "1      2010-01-04 07:00:00 14.0864\n",
       "2      2010-01-04 07:04:00 14.0864\n",
       "3      2010-01-04 07:06:00 14.0679\n",
       "4      2010-01-04 07:08:00 14.0586\n",
       "5      2010-01-04 07:13:00 14.0772\n",
       "6      2010-01-04 07:21:00 14.1050\n",
       "7      2010-01-04 07:23:00 14.1236\n",
       "8      2010-01-04 07:25:00 14.1236\n",
       "9      2010-01-04 07:27:00 14.1236\n",
       "10     2010-01-04 07:28:00 14.1236\n",
       "11     2010-01-04 07:31:00 14.1236\n",
       "12     2010-01-04 07:32:00 14.1236\n",
       "13     2010-01-04 07:34:00 14.1514\n",
       "14     2010-01-04 07:35:00 14.1236\n",
       "15     2010-01-04 07:38:00 14.1236\n",
       "16     2010-01-04 07:42:00 14.1143\n",
       "17     2010-01-04 07:43:00 14.1236\n",
       "18     2010-01-04 07:44:00 14.1143\n",
       "19     2010-01-04 07:46:00 14.1143\n",
       "20     2010-01-04 07:47:00 14.1143\n",
       "21     2010-01-04 07:48:00 14.1143\n",
       "22     2010-01-04 07:49:00 14.1143\n",
       "23     2010-01-04 07:54:00 14.0957\n",
       "24     2010-01-04 07:55:00 14.1143\n",
       "25     2010-01-04 07:56:00 14.1143\n",
       "26     2010-01-04 07:58:00 14.1143\n",
       "27     2010-01-04 07:59:00 14.1143\n",
       "28     2010-01-04 08:00:00 14.1050\n",
       "29     2010-01-04 08:01:00 14.1050\n",
       "30     2010-01-04 08:02:00 14.1050\n",
       "...    ...                 ...    \n",
       "99971  2010-09-07 13:11:00 12.3394\n",
       "99972  2010-09-07 13:12:00 12.3301\n",
       "99973  2010-09-07 13:13:00 12.3487\n",
       "99974  2010-09-07 13:14:00 12.3487\n",
       "99975  2010-09-07 13:15:00 12.3487\n",
       "99976  2010-09-07 13:16:00 12.3580\n",
       "99977  2010-09-07 13:17:00 12.3394\n",
       "99978  2010-09-07 13:18:00 12.3394\n",
       "99979  2010-09-07 13:19:00 12.3394\n",
       "99980  2010-09-07 13:20:00 12.3301\n",
       "99981  2010-09-07 13:21:00 12.3301\n",
       "99982  2010-09-07 13:22:00 12.3394\n",
       "99983  2010-09-07 13:23:00 12.3487\n",
       "99984  2010-09-07 13:24:00 12.3394\n",
       "99985  2010-09-07 13:25:00 12.3301\n",
       "99986  2010-09-07 13:26:00 12.3301\n",
       "99987  2010-09-07 13:27:00 12.3208\n",
       "99988  2010-09-07 13:28:00 12.3394\n",
       "99989  2010-09-07 13:29:00 12.3301\n",
       "99990  2010-09-07 13:30:00 12.3487\n",
       "99991  2010-09-07 13:31:00 12.3580\n",
       "99992  2010-09-07 13:32:00 12.3673\n",
       "99993  2010-09-07 13:33:00 12.3580\n",
       "99994  2010-09-07 13:34:00 12.3673\n",
       "99995  2010-09-07 13:35:00 12.3673\n",
       "99996  2010-09-07 13:36:00 12.3580\n",
       "99997  2010-09-07 13:37:00 12.3487\n",
       "99998  2010-09-07 13:38:00 12.3580\n",
       "99999  2010-09-07 13:39:00 12.3580\n",
       "100000 2010-09-07 13:40:00 12.3580"
      ]
     },
     "metadata": {},
     "output_type": "display_data"
    }
   ],
   "source": [
    "data_BAC[1:100000,]"
   ]
  },
  {
   "cell_type": "markdown",
   "metadata": {},
   "source": [
    "### 2. Restricting data"
   ]
  },
  {
   "cell_type": "code",
   "execution_count": 67,
   "metadata": {
    "vscode": {
     "languageId": "r"
    }
   },
   "outputs": [],
   "source": [
    "data_BAC <- subset(data_BAC_full, format(data_BAC_full$index,'%Y') >= '2012' & \n",
    "                        format(data_BAC_full$index,'%Y') <= '2016' &\n",
    "                        format(data_BAC_full$index,'%H:%M') >= '09:30' &\n",
    "                        format(data_BAC_full$index,'%H:%M') <= '16:00')\n",
    "\n",
    "data_MSFT <- subset(data_MSFT_full, format(data_MSFT_full$index,'%Y') >= '2012' & \n",
    "                        format(data_MSFT_full$index,'%Y') <= '2016' &\n",
    "                        format(data_MSFT_full$index,'%H:%M') >= '09:30' &\n",
    "                        format(data_MSFT_full$index,'%H:%M') <= '16:00')\n",
    "\n",
    "data_XOM <- subset(data_XOM_full, format(data_XOM_full$index,'%Y') >= '2012' & \n",
    "                        format(data_XOM_full$index,'%Y') <= '2016' &\n",
    "                        format(data_XOM_full$index,'%H:%M') >= '09:30' &\n",
    "                        format(data_XOM_full$index,'%H:%M') <= '16:00')                                                \n"
   ]
  },
  {
   "cell_type": "code",
   "execution_count": 66,
   "metadata": {
    "vscode": {
     "languageId": "r"
    }
   },
   "outputs": [
    {
     "data": {
      "text/plain": [
       "     index                           V1        \n",
       " Min.   :2012-01-03 09:30:00   Min.   : 5.256  \n",
       " 1st Qu.:2013-04-05 11:59:30   1st Qu.:11.456  \n",
       " Median :2014-07-07 10:19:00   Median :14.291  \n",
       " Mean   :2014-07-04 09:45:42   Mean   :13.364  \n",
       " 3rd Qu.:2015-10-02 12:23:30   3rd Qu.:15.624  \n",
       " Max.   :2016-12-30 16:00:00   Max.   :22.841  "
      ]
     },
     "metadata": {},
     "output_type": "display_data"
    }
   ],
   "source": [
    "summary(data_BAC)"
   ]
  }
 ],
 "metadata": {
  "kernelspec": {
   "display_name": "R",
   "language": "R",
   "name": "ir"
  },
  "language_info": {
   "codemirror_mode": "r",
   "file_extension": ".r",
   "mimetype": "text/x-r-source",
   "name": "R",
   "pygments_lexer": "r",
   "version": "4.1.2"
  },
  "orig_nbformat": 4
 },
 "nbformat": 4,
 "nbformat_minor": 2
}
