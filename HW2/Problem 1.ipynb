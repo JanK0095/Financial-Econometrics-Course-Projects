{
 "cells": [
  {
   "cell_type": "markdown",
   "metadata": {},
   "source": [
    "# Financial Econometrics I: Homework 2\n",
    "Jan Kubal & Matyáš Mattanelli"
   ]
  },
  {
   "cell_type": "markdown",
   "metadata": {},
   "source": [
    "### Problem 1"
   ]
  },
  {
   "cell_type": "code",
   "execution_count": 2,
   "metadata": {},
   "outputs": [],
   "source": [
    "#Loading necessary packages\n",
    "suppressPackageStartupMessages({\n",
    "library(quantmod)\n",
    "})"
   ]
  },
  {
   "cell_type": "code",
   "execution_count": 3,
   "metadata": {},
   "outputs": [
    {
     "name": "stderr",
     "output_type": "stream",
     "text": [
      "Warning message:\n",
      "\"BMS contains missing values. Some functions will not work if objects contain missing values in the middle of the series. Consider using na.omit(), na.approx(), na.fill(), etc to remove or replace them.\"\n"
     ]
    }
   ],
   "source": [
    "#Loading the file containing the symbols\n",
    "symbols2 <- read.csv(\"symbols2.csv\")\n",
    "\n",
    "#Generating 100 random numbers\n",
    "set.seed(48983854) #random seed using the SIS number\n",
    "indices <- sort(sample(1:377, 100, replace = F))\n",
    "\n",
    "#Extracting the tickers\n",
    "tickers <- symbols2$Symbol[indices]\n",
    "\n",
    "#Downloading the data for each ticker\n",
    "tickers_data <- vector(\"list\", length(tickers)) #Empty list for the data\n",
    "options(\"getSymbols.warning4.0\" = FALSE) #To suppress an annoying message\n",
    "for (i in 1:length(tickers)) {\n",
    "    tickers_data[[i]] <- getSymbols(tickers[i], src = \"yahoo\", auto.assign = F, from = \"2019-01-01\", to = \"2022-01-01\")\n",
    "}"
   ]
  },
  {
   "cell_type": "code",
   "execution_count": 4,
   "metadata": {},
   "outputs": [
    {
     "data": {
      "text/html": [
       "100"
      ],
      "text/latex": [
       "100"
      ],
      "text/markdown": [
       "100"
      ],
      "text/plain": [
       "[1] 100"
      ]
     },
     "metadata": {},
     "output_type": "display_data"
    }
   ],
   "source": [
    "#check that closing price is in the fourth column\n",
    "fourth_cols <- vector(\"character\", length(tickers_data))\n",
    "is_close <- vector(\"character\", length(tickers_data))\n",
    "\n",
    "for(i in 1:length(tickers_data)) {\n",
    " fourth_cols[i] <- names(tickers_data[[i]])[4]\n",
    "}\n",
    "\n",
    "for(i in 1:length(tickers_data)) {\n",
    " is_close[i] <- substr(fourth_cols[i],  nchar(fourth_cols[i])-4, nchar(fourth_cols[i])) #selecting only last five characters of each column name\n",
    "}\n",
    "\n",
    "sum(is_close == \"Close\") #If we get here sum of 100, we got all the closing prices in the fourth column and can continue to subsetting"
   ]
  },
  {
   "cell_type": "code",
   "execution_count": 5,
   "metadata": {},
   "outputs": [],
   "source": [
    "#Creating list containing Log-returns\n",
    "log_returns <- vector(\"list\", length(tickers_data))\n",
    "\n",
    "for(i in 1:length(tickers_data)) {\n",
    "    obs <- length(tickers_data[[i]][,4])\n",
    "    lrets <- vector(\"numeric\", obs)\n",
    "    lrets[1] <- NA\n",
    "\n",
    "    for(n in 2:obs){\n",
    "        lrets[n] <- as.numeric(log(tickers_data[[i]][n,4])) - as.numeric(log(tickers_data[[i]][n-1,4]))\n",
    "    }\n",
    "\n",
    "    log_returns[[i]] <- data.frame(Date = index(tickers_data[[7]]), tickers_data[[i]][,4], Log_returns = lrets)\n",
    "}\n",
    "\n",
    "#Each element of the list log_returns is a dataframe, containing dates, original closing prices and logarithmic returns\n",
    "#(the original prices is included mainly so the firm it belongs to could be easily recognized by ticker)"
   ]
  },
  {
   "cell_type": "code",
   "execution_count": 9,
   "metadata": {},
   "outputs": [
    {
     "data": {
      "image/png": "[encoded data removed]",
      "text/plain": [
       "plot without title"
      ]
     },
     "metadata": {
      "image/png": {
       "height": 420,
       "width": 420
      }
     },
     "output_type": "display_data"
    }
   ],
   "source": [
    "plot(x=log_returns[[15]]$Date, y=log_returns[[15]]$Log_returns, type=\"l\")"
   ]
  },
  {
   "cell_type": "code",
   "execution_count": null,
   "metadata": {},
   "outputs": [],
   "source": []
  }
 ],
 "metadata": {
  "kernelspec": {
   "display_name": "R",
   "language": "R",
   "name": "ir"
  },
  "language_info": {
   "codemirror_mode": "r",
   "file_extension": ".r",
   "mimetype": "text/x-r-source",
   "name": "R",
   "pygments_lexer": "r",
   "version": "4.1.2"
  },
  "orig_nbformat": 4
 },
 "nbformat": 4,
 "nbformat_minor": 2
}
