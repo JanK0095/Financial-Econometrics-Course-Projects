{
 "cells": [
  {
   "cell_type": "markdown",
   "metadata": {},
   "source": [
    "# Financial Econometrics I: Homework 2\n",
    "Jan Kubal & Matyáš Mattanelli"
   ]
  },
  {
   "cell_type": "markdown",
   "metadata": {},
   "source": [
    "## Problem 1\n",
    "### Loading data"
   ]
  },
  {
   "cell_type": "code",
   "execution_count": 2,
   "metadata": {},
   "outputs": [],
   "source": [
    "#Loading necessary packages\n",
    "suppressPackageStartupMessages({\n",
    "library(quantmod)\n",
    "})"
   ]
  },
  {
   "cell_type": "code",
   "execution_count": 3,
   "metadata": {},
   "outputs": [
    {
     "name": "stderr",
     "output_type": "stream",
     "text": [
      "Warning message:\n",
      "\"BMS contains missing values. Some functions will not work if objects contain missing values in the middle of the series. Consider using na.omit(), na.approx(), na.fill(), etc to remove or replace them.\"\n"
     ]
    }
   ],
   "source": [
    "#Loading the file containing the symbols\n",
    "symbols2 <- read.csv(\"symbols2.csv\")\n",
    "\n",
    "#Generating 100 random numbers\n",
    "set.seed(48983854) #random seed using the SIS number\n",
    "indices <- sort(sample(1:377, 100, replace = F))\n",
    "\n",
    "#Extracting the tickers\n",
    "tickers <- symbols2$Symbol[indices]\n",
    "\n",
    "#Downloading the data for each ticker\n",
    "tickers_data <- vector(\"list\", length(tickers)) #Empty list for the data\n",
    "options(\"getSymbols.warning4.0\" = FALSE) #To suppress an annoying message\n",
    "for (i in 1:length(tickers)) {\n",
    "    tickers_data[[i]] <- getSymbols(tickers[i], src = \"yahoo\", auto.assign = F, from = \"2019-01-01\", to = \"2022-01-01\")\n",
    "}"
   ]
  },
  {
   "cell_type": "code",
   "execution_count": 4,
   "metadata": {},
   "outputs": [
    {
     "data": {
      "text/html": [
       "100"
      ],
      "text/latex": [
       "100"
      ],
      "text/markdown": [
       "100"
      ],
      "text/plain": [
       "[1] 100"
      ]
     },
     "metadata": {},
     "output_type": "display_data"
    }
   ],
   "source": [
    "#check that closing price is in the fourth column\n",
    "fourth_cols <- vector(\"character\", length(tickers_data))\n",
    "is_close <- vector(\"character\", length(tickers_data))\n",
    "\n",
    "for(i in 1:length(tickers_data)) {\n",
    " fourth_cols[i] <- names(tickers_data[[i]])[4]\n",
    "}\n",
    "\n",
    "for(i in 1:length(tickers_data)) {\n",
    " is_close[i] <- substr(fourth_cols[i],  nchar(fourth_cols[i])-4, nchar(fourth_cols[i])) #selecting only last five characters of each column name\n",
    "}\n",
    "\n",
    "sum(is_close == \"Close\") #If we get here sum of 100, we got all the closing prices in the fourth column and can continue to subsetting"
   ]
  },
  {
   "cell_type": "markdown",
   "metadata": {},
   "source": [
    "### 1) Log-returns"
   ]
  },
  {
   "cell_type": "code",
   "execution_count": 5,
   "metadata": {},
   "outputs": [],
   "source": [
    "#Creating list containing Log-returns\n",
    "log_returns <- vector(\"list\", length(tickers_data))\n",
    "\n",
    "for(i in 1:length(tickers_data)) {\n",
    "    obs <- length(tickers_data[[i]][,4])\n",
    "    lrets <- vector(\"numeric\", obs)\n",
    "    lrets[1] <- NA\n",
    "\n",
    "    for(n in 2:obs){\n",
    "        lrets[n] <- as.numeric(log(tickers_data[[i]][n,4])) - as.numeric(log(tickers_data[[i]][n-1,4]))\n",
    "    }\n",
    "\n",
    "    log_returns[[i]] <- data.frame(Date = index(tickers_data[[7]]), tickers_data[[i]][,4], Log_returns = lrets)\n",
    "}\n",
    "\n",
    "#Each element of the list log_returns is a dataframe, containing dates, original closing prices and logarithmic returns\n",
    "#(the original prices is included mainly so the firm it belongs to could be easily recognized by ticker)"
   ]
  },
  {
   "cell_type": "code",
   "execution_count": 9,
   "metadata": {},
   "outputs": [
    {
     "data": {
      "image/png": "[encoded data removed]",
      "text/plain": [
       "plot without title"
      ]
     },
     "metadata": {
      "image/png": {
       "height": 420,
       "width": 420
      }
     },
     "output_type": "display_data"
    }
   ],
   "source": [
    "plot(x=log_returns[[15]]$Date, y=log_returns[[15]]$Log_returns, type=\"l\")"
   ]
  },
  {
   "cell_type": "code",
   "execution_count": 10,
   "metadata": {},
   "outputs": [],
   "source": [
    "#Just some notes\n",
    "\n",
    "#plot ACF and PACF of logrets? or logrets^2?\n",
    "#lagrange multiplier test for ARCH effect? (arch.test)?\n",
    "#alpha - effetc of past excess return (ret. different from mean), beta - effect of variance (volatility) from the previous period"
   ]
  },
  {
   "cell_type": "markdown",
   "metadata": {},
   "source": [
    "### 2) Estimating GARCH(1,1) models"
   ]
  },
  {
   "cell_type": "code",
   "execution_count": 13,
   "metadata": {},
   "outputs": [
    {
     "name": "stderr",
     "output_type": "stream",
     "text": [
      "Warning message:\n",
      "\"package 'rugarch' was built under R version 4.1.3\"\n",
      "Loading required package: parallel\n",
      "\n",
      "\n",
      "Attaching package: 'rugarch'\n",
      "\n",
      "\n",
      "The following object is masked from 'package:stats':\n",
      "\n",
      "    sigma\n",
      "\n",
      "\n"
     ]
    }
   ],
   "source": [
    "library(rugarch)"
   ]
  },
  {
   "cell_type": "code",
   "execution_count": 42,
   "metadata": {},
   "outputs": [],
   "source": [
    "#Estimating GARCH(1,1) models and saving fitted objects in list\n",
    "garch_list <- vector(\"list\", length(tickers_data))\n",
    "\n",
    "for(i in 1:length(tickers_data)){\n",
    "    garch_spec <- ugarchspec(mean.model = list(armaOrder = c(0, 0)), variance.model = list(garchOrder = c(1, 1)))\n",
    "    garch_fit <- ugarchfit(garch_spec, na.omit(log_returns[[i]]$Log_returns))\n",
    "\n",
    "    garch_list[[i]] <- garch_fit\n",
    "}"
   ]
  },
  {
   "cell_type": "markdown",
   "metadata": {},
   "source": [
    "### 3) Extracting and plotting alphas and betas"
   ]
  },
  {
   "cell_type": "code",
   "execution_count": 58,
   "metadata": {},
   "outputs": [],
   "source": [
    "coef_df <- data.frame(Firm = tickers, \n",
    "                    alphas = rep(NA, length(tickers_data)), \n",
    "                    betas = rep(NA, length(tickers_data)), \n",
    "                    ab_sum = rep(NA, length(tickers_data)))"
   ]
  },
  {
   "cell_type": "code",
   "execution_count": 63,
   "metadata": {},
   "outputs": [],
   "source": [
    "for(i in 1:length(tickers_data)){\n",
    "    coef_df$alphas[i] <- as.numeric(coef(garch_list[[i]])[3])\n",
    "    coef_df$betas[i] <- as.numeric(coef(garch_list[[i]])[4])\n",
    "    coef_df$ab_sum[i] <- as.numeric(coef(garch_list[[i]])[3]) + as.numeric(coef(garch_list[[i]])[4])\n",
    "}"
   ]
  },
  {
   "cell_type": "code",
   "execution_count": 103,
   "metadata": {},
   "outputs": [
    {
     "data": {
      "image/png": "[encoded data removed]",
      "text/plain": [
       "Plot with title \"Histogram of estimated betas\""
      ]
     },
     "metadata": {
      "image/png": {
       "height": 420,
       "width": 960
      }
     },
     "output_type": "display_data"
    },
    {
     "data": {
      "image/png": "[encoded data removed]",
      "text/plain": [
       "Plot with title \"Histogram of estimated and summed alphas and betas\""
      ]
     },
     "metadata": {
      "image/png": {
       "height": 420,
       "width": 480
      }
     },
     "output_type": "display_data"
    }
   ],
   "source": [
    "#ploting the crossection of coefficients\n",
    "options(repr.plot.width = 16, repr.plot.height = 7)\n",
    "par(mfrow = c(1, 2))\n",
    "hist(coef_df$alphas, breaks = 10, main = \"Histogram of estimated alphas\")\n",
    "hist(coef_df$betas, breaks = 10, main = \"Histogram of estimated betas\")\n",
    "options(repr.plot.width = 8, repr.plot.height = 7)\n",
    "par(mfrow = c(1, 1))\n",
    "hist(coef_df$ab_sum, breaks = 11, main = \"Histogram of estimated and summed alphas and betas\")"
   ]
  },
  {
   "cell_type": "markdown",
   "metadata": {},
   "source": [
    "### 4) Maximum estimated coefficients"
   ]
  },
  {
   "cell_type": "code",
   "execution_count": 117,
   "metadata": {},
   "outputs": [
    {
     "name": "stdout",
     "output_type": "stream",
     "text": [
      "[1] \"Maximum estimated alpha: 0.704289393725199 for firm Hasbro Inc.\"\n",
      "[1] \"Maximum estimated beta: 0.915573209232825 for firm Newmont Mining Corp. (Hldg. Co.)\"\n",
      "[1] \"Maximum estimated sum: 0.998999987822922 for firm Host Hotels & Resorts\"\n"
     ]
    }
   ],
   "source": [
    "#alpha\n",
    "m_a <- max(coef_df$alphas)\n",
    "m_a_name <- symbols2$Name[symbols2$Symbol == coef_df$Firm[match(m_a, coef_df$alphas)]]\n",
    "\n",
    "#beta\n",
    "m_b <- max(coef_df$betas)\n",
    "m_b_name <- symbols2$Name[symbols2$Symbol == coef_df$Firm[match(m_b, coef_df$betas)]]\n",
    "\n",
    "#sums\n",
    "m_ab <- max(coef_df$ab_sum)\n",
    "m_ab_name <- symbols2$Name[symbols2$Symbol == coef_df$Firm[match(m_ab, coef_df$ab_sum)]]\n",
    "\n",
    "print(paste(\"Maximum estimated alpha:\", m_a, \"for firm\", m_a_name))\n",
    "print(paste(\"Maximum estimated beta:\", m_b, \"for firm\", m_b_name))\n",
    "print(paste(\"Maximum estimated sum:\", m_ab, \"for firm\", m_ab_name))"
   ]
  }
 ],
 "metadata": {
  "kernelspec": {
   "display_name": "R",
   "language": "R",
   "name": "ir"
  },
  "language_info": {
   "codemirror_mode": "r",
   "file_extension": ".r",
   "mimetype": "text/x-r-source",
   "name": "R",
   "pygments_lexer": "r",
   "version": "4.1.2"
  },
  "orig_nbformat": 4
 },
 "nbformat": 4,
 "nbformat_minor": 2
}
