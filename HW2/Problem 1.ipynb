{
 "cells": [
  {
   "cell_type": "markdown",
   "metadata": {},
   "source": [
    "# Financial Econometrics I: Homework 2\n",
    "Jan Kubal & Matyáš Mattanelli"
   ]
  },
  {
   "cell_type": "markdown",
   "metadata": {},
   "source": [
    "### Problem 1"
   ]
  },
  {
   "cell_type": "code",
   "execution_count": 2,
   "metadata": {},
   "outputs": [],
   "source": [
    "#Loading necessary packages\n",
    "suppressPackageStartupMessages({\n",
    "library(quantmod)\n",
    "})"
   ]
  },
  {
   "cell_type": "code",
   "execution_count": 3,
   "metadata": {},
   "outputs": [
    {
     "name": "stderr",
     "output_type": "stream",
     "text": [
      "Warning message:\n",
      "\"BMS contains missing values. Some functions will not work if objects contain missing values in the middle of the series. Consider using na.omit(), na.approx(), na.fill(), etc to remove or replace them.\"\n"
     ]
    }
   ],
   "source": [
    "#Loading the file containing the symbols\n",
    "symbols2 <- read.csv(\"symbols2.csv\")\n",
    "\n",
    "#Generating 100 random numbers\n",
    "set.seed(48983854) #random seed using the SIS number\n",
    "indices <- sort(sample(1:377, 100, replace = F))\n",
    "\n",
    "#Extracting the tickers\n",
    "tickers <- symbols2$Symbol[indices]\n",
    "\n",
    "#Downloading the data for each ticker\n",
    "tickers_data <- vector(\"list\", length(tickers)) #Empty list for the data\n",
    "options(\"getSymbols.warning4.0\" = FALSE) #To suppress an annoying message\n",
    "for (i in 1:length(tickers)) {\n",
    "    tickers_data[[i]] <- getSymbols(tickers[i], src = \"yahoo\", auto.assign = F, from = \"2019-01-01\", to = \"2022-01-01\")\n",
    "}"
   ]
  },
  {
   "cell_type": "code",
   "execution_count": 29,
   "metadata": {},
   "outputs": [
    {
     "data": {
      "text/html": [
       "100"
      ],
      "text/latex": [
       "100"
      ],
      "text/markdown": [
       "100"
      ],
      "text/plain": [
       "[1] 100"
      ]
     },
     "metadata": {},
     "output_type": "display_data"
    }
   ],
   "source": [
    "#check that closing price is in the fourth column\n",
    "fourth_cols <- vector(\"character\", length(tickers_data))\n",
    "is_close <- vector(\"character\", length(tickers_data))\n",
    "\n",
    "for(i in 1:length(tickers_data)) {\n",
    " fourth_cols[i] <- names(tickers_data[[i]])[4]\n",
    "}\n",
    "\n",
    "for(i in 1:length(tickers_data)) {\n",
    " is_close[i] <- substr(fourth_cols[i],  nchar(fourth_cols[i])-4, nchar(fourth_cols[i]))\n",
    "}\n",
    "\n",
    "sum(is_close == \"Close\") #If we get here sum of 100, we got all the closing prices in the fourth column and can continue to subsetting"
   ]
  },
  {
   "cell_type": "code",
   "execution_count": 23,
   "metadata": {},
   "outputs": [
    {
     "data": {
      "text/html": [
       "'ABT.Close'"
      ],
      "text/latex": [
       "'ABT.Close'"
      ],
      "text/markdown": [
       "'ABT.Close'"
      ],
      "text/plain": [
       "[1] \"ABT.Close\""
      ]
     },
     "metadata": {},
     "output_type": "display_data"
    }
   ],
   "source": [
    "fourth_cols[1]"
   ]
  },
  {
   "cell_type": "code",
   "execution_count": 16,
   "metadata": {},
   "outputs": [
    {
     "data": {
      "text/html": [
       "'ACN.Close'"
      ],
      "text/latex": [
       "'ACN.Close'"
      ],
      "text/markdown": [
       "'ACN.Close'"
      ],
      "text/plain": [
       "[1] \"ACN.Close\""
      ]
     },
     "metadata": {},
     "output_type": "display_data"
    }
   ],
   "source": [
    "names(tickers_data[[2]])[4]"
   ]
  },
  {
   "cell_type": "code",
   "execution_count": null,
   "metadata": {},
   "outputs": [],
   "source": []
  }
 ],
 "metadata": {
  "kernelspec": {
   "display_name": "R",
   "language": "R",
   "name": "ir"
  },
  "language_info": {
   "codemirror_mode": "r",
   "file_extension": ".r",
   "mimetype": "text/x-r-source",
   "name": "R",
   "pygments_lexer": "r",
   "version": "4.1.2"
  },
  "orig_nbformat": 4
 },
 "nbformat": 4,
 "nbformat_minor": 2
}
